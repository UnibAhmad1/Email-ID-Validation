{
 "cells": [
  {
   "cell_type": "code",
   "execution_count": 39,
   "id": "873385a9-3473-49a6-8bff-6e32b09f34e2",
   "metadata": {},
   "outputs": [
    {
     "name": "stdin",
     "output_type": "stream",
     "text": [
      "Enter your email:  wese@gmail.com\n"
     ]
    },
    {
     "name": "stdout",
     "output_type": "stream",
     "text": [
      "Right email\n"
     ]
    }
   ],
   "source": [
    "email = input(\"Enter your email: \") ## h@h.in\n",
    "k,j,d=0,0,0\n",
    "if len(email) >= 6:\n",
    "    if email[0].isalpha():\n",
    "        if (\"@\" in email) and (email.count(\"@\")==1):\n",
    "            if (email[-4]==\".\") ^ (email[-3]==\".\"):\n",
    "                for i in email:\n",
    "                    if i.isspace(): # Check for spaces\n",
    "                        k=1\n",
    "                    elif i.isalpha():\n",
    "                        if i.isupper(): # Check if any letter is uppercase \n",
    "                            j=1\n",
    "                    elif i.isdigit(): # Allow digits\n",
    "                        continue\n",
    "                    elif i==\"_\" or i==\".\" or i==\"@\": # Allow these special characters\n",
    "                        continue\n",
    "                    else:\n",
    "                        d=1\n",
    "                if k==1 or j==1 or d==1:\n",
    "                    print(\"Wrong email 4\")\n",
    "                else:\n",
    "                    print(\"Right email\")\n",
    "            else:\n",
    "                print(\"Wrong email\")\n",
    "        else:\n",
    "            print(\"Wrong email, enter at most one '@'\")\n",
    "    else:\n",
    "        print(\"Wrong email, start with alphabet\")\n",
    "else:\n",
    "    print(\"Wrong email, enter at least 6 words\")"
   ]
  },
  {
   "cell_type": "code",
   "execution_count": null,
   "id": "e2dc1a65-3024-4382-94e6-ab2675028bce",
   "metadata": {},
   "outputs": [],
   "source": []
  }
 ],
 "metadata": {
  "kernelspec": {
   "display_name": "Python 3 (ipykernel)",
   "language": "python",
   "name": "python3"
  },
  "language_info": {
   "codemirror_mode": {
    "name": "ipython",
    "version": 3
   },
   "file_extension": ".py",
   "mimetype": "text/x-python",
   "name": "python",
   "nbconvert_exporter": "python",
   "pygments_lexer": "ipython3",
   "version": "3.12.4"
  }
 },
 "nbformat": 4,
 "nbformat_minor": 5
}
